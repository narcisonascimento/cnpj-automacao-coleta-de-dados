{
 "cells": [
  {
   "cell_type": "code",
   "execution_count": 2,
   "metadata": {},
   "outputs": [],
   "source": [
    "import pandas as pd\n",
    "\n",
    "df = pd.read_excel('./data/output/rnt-cnpj-com-cnae-dia-01-11-2023-hora-19-57-14-sem-cnae.xlsx')\n",
    "\n",
    "rows_per_file = 100\n",
    "\n",
    "n_chunks = len(df) // rows_per_file\n",
    "\n",
    "for i in range(n_chunks):\n",
    "    start = i*rows_per_file\n",
    "    stop = (i+1) * rows_per_file\n",
    "    sub_df = df.iloc[start:stop]\n",
    "    sub_df.to_excel(f\"data\\output\\Bases-separadas\\-{i}.xlsx\", sheet_name='sheet1', index=False)\n",
    "if stop < len(df):\n",
    "    sub_df = df.iloc[stop:]\n",
    "    sub_df.to_excel(f\"data\\output\\Bases-separadas\\-{i}.xlsx\", sheet_name='sheet1', index=False)"
   ]
  }
 ],
 "metadata": {
  "kernelspec": {
   "display_name": ".venv",
   "language": "python",
   "name": "python3"
  },
  "language_info": {
   "codemirror_mode": {
    "name": "ipython",
    "version": 3
   },
   "file_extension": ".py",
   "mimetype": "text/x-python",
   "name": "python",
   "nbconvert_exporter": "python",
   "pygments_lexer": "ipython3",
   "version": "3.9.8"
  }
 },
 "nbformat": 4,
 "nbformat_minor": 2
}
