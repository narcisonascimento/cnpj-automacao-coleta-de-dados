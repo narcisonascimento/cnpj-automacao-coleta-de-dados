{
 "cells": [
  {
   "cell_type": "code",
   "execution_count": 1,
   "metadata": {},
   "outputs": [
    {
     "name": "stdout",
     "output_type": "stream",
     "text": [
      "Package            VersionNote: you may need to restart the kernel to use updated packages.\n",
      "\n",
      "------------------ -----------\n",
      "asttokens          2.4.1\n",
      "attrs              23.1.0\n",
      "backcall           0.2.0\n",
      "certifi            2023.7.22\n",
      "cffi               1.16.0\n",
      "colorama           0.4.6\n",
      "comm               0.1.4\n",
      "debugpy            1.8.0\n",
      "decorator          5.1.1\n",
      "et-xmlfile         1.1.0\n",
      "exceptiongroup     1.1.3\n",
      "executing          2.0.0\n",
      "h11                0.14.0\n",
      "idna               3.4\n",
      "importlib-metadata 6.8.0\n",
      "ipykernel          6.26.0\n",
      "ipython            8.16.1\n",
      "jedi               0.19.1\n",
      "jupyter_client     8.5.0\n",
      "jupyter_core       5.4.0\n",
      "matplotlib-inline  0.1.6\n",
      "nest-asyncio       1.5.8\n",
      "openpyxl           3.1.2\n",
      "outcome            1.3.0.post0\n",
      "packaging          23.2\n",
      "parso              0.8.3\n",
      "pickleshare        0.7.5\n",
      "pip                23.3.1\n",
      "platformdirs       3.11.0\n",
      "prompt-toolkit     3.0.39\n",
      "psutil             5.9.6\n",
      "pure-eval          0.2.2\n",
      "pycparser          2.21\n",
      "Pygments           2.16.1\n",
      "PySocks            1.7.1\n",
      "python-dateutil    2.8.2\n",
      "pywin32            306\n",
      "pyzmq              25.1.1\n",
      "selenium           4.14.0\n",
      "setuptools         58.1.0\n",
      "six                1.16.0\n",
      "sniffio            1.3.0\n",
      "sortedcontainers   2.4.0\n",
      "stack-data         0.6.3\n",
      "tornado            6.3.3\n",
      "traitlets          5.12.0\n",
      "trio               0.22.2\n",
      "trio-websocket     0.11.1\n",
      "typing_extensions  4.8.0\n",
      "urllib3            2.0.7\n",
      "wcwidth            0.2.8\n",
      "wsproto            1.2.0\n",
      "zipp               3.17.0\n"
     ]
    }
   ],
   "source": [
    "pip list"
   ]
  },
  {
   "cell_type": "code",
   "execution_count": 2,
   "metadata": {},
   "outputs": [
    {
     "name": "stdout",
     "output_type": "stream",
     "text": [
      "Collecting selenium\n",
      "  Downloading selenium-4.14.0-py3-none-any.whl.metadata (6.9 kB)\n",
      "Collecting urllib3<3,>=1.26 (from urllib3[socks]<3,>=1.26->selenium)\n",
      "  Downloading urllib3-2.0.7-py3-none-any.whl.metadata (6.6 kB)\n",
      "Collecting trio~=0.17 (from selenium)\n",
      "  Downloading trio-0.22.2-py3-none-any.whl.metadata (4.7 kB)\n",
      "Collecting trio-websocket~=0.9 (from selenium)\n",
      "  Downloading trio_websocket-0.11.1-py3-none-any.whl.metadata (4.7 kB)\n",
      "Collecting certifi>=2021.10.8 (from selenium)\n",
      "  Downloading certifi-2023.7.22-py3-none-any.whl.metadata (2.2 kB)\n",
      "Collecting attrs>=20.1.0 (from trio~=0.17->selenium)\n",
      "  Downloading attrs-23.1.0-py3-none-any.whl (61 kB)\n",
      "     ---------------------------------------- 0.0/61.2 kB ? eta -:--:--\n",
      "     ---------------------------------------- 61.2/61.2 kB 3.2 MB/s eta 0:00:00\n",
      "Collecting sortedcontainers (from trio~=0.17->selenium)\n",
      "  Downloading sortedcontainers-2.4.0-py2.py3-none-any.whl (29 kB)\n",
      "Collecting idna (from trio~=0.17->selenium)\n",
      "  Downloading idna-3.4-py3-none-any.whl (61 kB)\n",
      "     ---------------------------------------- 0.0/61.5 kB ? eta -:--:--\n",
      "     ---------------------------------------- 61.5/61.5 kB ? eta 0:00:00\n",
      "Collecting outcome (from trio~=0.17->selenium)\n",
      "  Downloading outcome-1.3.0.post0-py2.py3-none-any.whl.metadata (2.6 kB)\n",
      "Collecting sniffio (from trio~=0.17->selenium)\n",
      "  Downloading sniffio-1.3.0-py3-none-any.whl (10 kB)\n",
      "Collecting cffi>=1.14 (from trio~=0.17->selenium)\n",
      "  Downloading cffi-1.16.0-cp39-cp39-win_amd64.whl.metadata (1.5 kB)\n",
      "Requirement already satisfied: exceptiongroup>=1.0.0rc9 in c:\\users\\pm22620\\onedrive - alliance\\área de trabalho\\projetos\\cnpj-automacao-coleta-de-dados\\.venv\\lib\\site-packages (from trio~=0.17->selenium) (1.1.3)\n",
      "Collecting wsproto>=0.14 (from trio-websocket~=0.9->selenium)\n",
      "  Downloading wsproto-1.2.0-py3-none-any.whl (24 kB)\n",
      "Collecting pysocks!=1.5.7,<2.0,>=1.5.6 (from urllib3[socks]<3,>=1.26->selenium)\n",
      "  Downloading PySocks-1.7.1-py3-none-any.whl (16 kB)\n",
      "Collecting pycparser (from cffi>=1.14->trio~=0.17->selenium)\n",
      "  Downloading pycparser-2.21-py2.py3-none-any.whl (118 kB)\n",
      "     ---------------------------------------- 0.0/118.7 kB ? eta -:--:--\n",
      "     -------------------------------------- 118.7/118.7 kB 7.2 MB/s eta 0:00:00\n",
      "Collecting h11<1,>=0.9.0 (from wsproto>=0.14->trio-websocket~=0.9->selenium)\n",
      "  Downloading h11-0.14.0-py3-none-any.whl (58 kB)\n",
      "     ---------------------------------------- 0.0/58.3 kB ? eta -:--:--\n",
      "     ---------------------------------------- 58.3/58.3 kB 3.2 MB/s eta 0:00:00\n",
      "Downloading selenium-4.14.0-py3-none-any.whl (9.9 MB)\n",
      "   ---------------------------------------- 0.0/9.9 MB ? eta -:--:--\n",
      "   - -------------------------------------- 0.5/9.9 MB 28.8 MB/s eta 0:00:01\n",
      "   -------- ------------------------------- 2.0/9.9 MB 32.2 MB/s eta 0:00:01\n",
      "   ------------ --------------------------- 3.2/9.9 MB 29.0 MB/s eta 0:00:01\n",
      "   ------------------ --------------------- 4.6/9.9 MB 32.4 MB/s eta 0:00:01\n",
      "   ------------------------ --------------- 6.0/9.9 MB 32.0 MB/s eta 0:00:01\n",
      "   -------------------------------- ------- 8.2/9.9 MB 37.2 MB/s eta 0:00:01\n",
      "   ---------------------------------------  9.9/9.9 MB 39.6 MB/s eta 0:00:01\n",
      "   ---------------------------------------- 9.9/9.9 MB 33.4 MB/s eta 0:00:00\n",
      "Downloading certifi-2023.7.22-py3-none-any.whl (158 kB)\n",
      "   ---------------------------------------- 0.0/158.3 kB ? eta -:--:--\n",
      "   ---------------------------------------- 158.3/158.3 kB 9.9 MB/s eta 0:00:00\n",
      "Downloading trio-0.22.2-py3-none-any.whl (400 kB)\n",
      "   ---------------------------------------- 0.0/400.2 kB ? eta -:--:--\n",
      "   --------------------------------------- 400.2/400.2 kB 24.4 MB/s eta 0:00:00\n",
      "Downloading trio_websocket-0.11.1-py3-none-any.whl (17 kB)\n",
      "Downloading urllib3-2.0.7-py3-none-any.whl (124 kB)\n",
      "   ---------------------------------------- 0.0/124.2 kB ? eta -:--:--\n",
      "   ---------------------------------------- 124.2/124.2 kB 7.6 MB/s eta 0:00:00\n",
      "Downloading cffi-1.16.0-cp39-cp39-win_amd64.whl (181 kB)\n",
      "   ---------------------------------------- 0.0/181.6 kB ? eta -:--:--\n",
      "   --------------------------------------- 181.6/181.6 kB 10.7 MB/s eta 0:00:00\n",
      "Downloading outcome-1.3.0.post0-py2.py3-none-any.whl (10 kB)\n",
      "Installing collected packages: sortedcontainers, urllib3, sniffio, pysocks, pycparser, idna, h11, certifi, attrs, wsproto, outcome, cffi, trio, trio-websocket, selenium\n",
      "Successfully installed attrs-23.1.0 certifi-2023.7.22 cffi-1.16.0 h11-0.14.0 idna-3.4 outcome-1.3.0.post0 pycparser-2.21 pysocks-1.7.1 selenium-4.14.0 sniffio-1.3.0 sortedcontainers-2.4.0 trio-0.22.2 trio-websocket-0.11.1 urllib3-2.0.7 wsproto-1.2.0\n",
      "Note: you may need to restart the kernel to use updated packages.\n"
     ]
    }
   ],
   "source": [
    "pip install selenium"
   ]
  },
  {
   "cell_type": "code",
   "execution_count": 4,
   "metadata": {},
   "outputs": [
    {
     "name": "stdout",
     "output_type": "stream",
     "text": [
      "Collecting openpyxlNote: you may need to restart the kernel to use updated packages.\n",
      "\n",
      "  Downloading openpyxl-3.1.2-py2.py3-none-any.whl (249 kB)\n",
      "     ---------------------------------------- 0.0/250.0 kB ? eta -:--:--\n",
      "     ----------------- -------------------- 112.6/250.0 kB 3.3 MB/s eta 0:00:01\n",
      "     -------------------------------------- 250.0/250.0 kB 3.9 MB/s eta 0:00:00\n",
      "Collecting et-xmlfile (from openpyxl)\n",
      "  Downloading et_xmlfile-1.1.0-py3-none-any.whl (4.7 kB)\n",
      "Installing collected packages: et-xmlfile, openpyxl\n",
      "Successfully installed et-xmlfile-1.1.0 openpyxl-3.1.2\n"
     ]
    }
   ],
   "source": [
    "pip install openpyxl"
   ]
  },
  {
   "cell_type": "code",
   "execution_count": 2,
   "metadata": {},
   "outputs": [
    {
     "name": "stdout",
     "output_type": "stream",
     "text": [
      "Collecting pandasNote: you may need to restart the kernel to use updated packages.\n",
      "\n",
      "  Downloading pandas-2.1.2-cp39-cp39-win_amd64.whl.metadata (18 kB)\n",
      "Collecting numpy<2,>=1.22.4 (from pandas)\n",
      "  Downloading numpy-1.26.1-cp39-cp39-win_amd64.whl.metadata (61 kB)\n",
      "     ---------------------------------------- 0.0/61.2 kB ? eta -:--:--\n",
      "     ---------------------------------------- 61.2/61.2 kB 1.6 MB/s eta 0:00:00\n",
      "Requirement already satisfied: python-dateutil>=2.8.2 in c:\\users\\pm22620\\onedrive - alliance\\área de trabalho\\projetos\\cnpj-automacao-coleta-de-dados\\.venv\\lib\\site-packages (from pandas) (2.8.2)\n",
      "Collecting pytz>=2020.1 (from pandas)\n",
      "  Downloading pytz-2023.3.post1-py2.py3-none-any.whl.metadata (22 kB)\n",
      "Collecting tzdata>=2022.1 (from pandas)\n",
      "  Downloading tzdata-2023.3-py2.py3-none-any.whl (341 kB)\n",
      "     ---------------------------------------- 0.0/341.8 kB ? eta -:--:--\n",
      "     -------------------------- ----------- 235.5/341.8 kB 7.3 MB/s eta 0:00:01\n",
      "     -------------------------------------- 341.8/341.8 kB 7.1 MB/s eta 0:00:00\n",
      "Requirement already satisfied: six>=1.5 in c:\\users\\pm22620\\onedrive - alliance\\área de trabalho\\projetos\\cnpj-automacao-coleta-de-dados\\.venv\\lib\\site-packages (from python-dateutil>=2.8.2->pandas) (1.16.0)\n",
      "Downloading pandas-2.1.2-cp39-cp39-win_amd64.whl (10.8 MB)\n",
      "   ---------------------------------------- 0.0/10.8 MB ? eta -:--:--\n",
      "   --- ------------------------------------ 0.8/10.8 MB 26.1 MB/s eta 0:00:01\n",
      "   -------- ------------------------------- 2.2/10.8 MB 28.6 MB/s eta 0:00:01\n",
      "   ------------ --------------------------- 3.4/10.8 MB 31.5 MB/s eta 0:00:01\n",
      "   ------------------ --------------------- 5.0/10.8 MB 35.3 MB/s eta 0:00:01\n",
      "   ---------------------- ----------------- 6.1/10.8 MB 35.3 MB/s eta 0:00:01\n",
      "   --------------------------- ------------ 7.5/10.8 MB 34.2 MB/s eta 0:00:01\n",
      "   ---------------------------------- ----- 9.2/10.8 MB 36.7 MB/s eta 0:00:01\n",
      "   ---------------------------------------  10.7/10.8 MB 36.4 MB/s eta 0:00:01\n",
      "   ---------------------------------------- 10.8/10.8 MB 32.7 MB/s eta 0:00:00\n",
      "Downloading numpy-1.26.1-cp39-cp39-win_amd64.whl (15.8 MB)\n",
      "   ---------------------------------------- 0.0/15.8 MB ? eta -:--:--\n",
      "   ----- ---------------------------------- 2.2/15.8 MB 70.4 MB/s eta 0:00:01\n",
      "   --------- ------------------------------ 3.6/15.8 MB 57.6 MB/s eta 0:00:01\n",
      "   ------------- -------------------------- 5.4/15.8 MB 49.9 MB/s eta 0:00:01\n",
      "   ------------------- -------------------- 7.7/15.8 MB 54.3 MB/s eta 0:00:01\n",
      "   ----------------------- ---------------- 9.4/15.8 MB 54.8 MB/s eta 0:00:01\n",
      "   -------------------------- ------------- 10.4/15.8 MB 46.7 MB/s eta 0:00:01\n",
      "   ------------------------------- -------- 12.4/15.8 MB 46.7 MB/s eta 0:00:01\n",
      "   ---------------------------------- ----- 13.6/15.8 MB 46.7 MB/s eta 0:00:01\n",
      "   ---------------------------------------  15.5/15.8 MB 50.4 MB/s eta 0:00:01\n",
      "   ---------------------------------------  15.8/15.8 MB 40.9 MB/s eta 0:00:01\n",
      "   ---------------------------------------  15.8/15.8 MB 40.9 MB/s eta 0:00:01\n",
      "   ---------------------------------------- 15.8/15.8 MB 34.4 MB/s eta 0:00:00\n",
      "Downloading pytz-2023.3.post1-py2.py3-none-any.whl (502 kB)\n",
      "   ---------------------------------------- 0.0/502.5 kB ? eta -:--:--\n",
      "   --------------------------------------- 502.5/502.5 kB 30.8 MB/s eta 0:00:00\n",
      "Installing collected packages: pytz, tzdata, numpy, pandas\n",
      "Successfully installed numpy-1.26.1 pandas-2.1.2 pytz-2023.3.post1 tzdata-2023.3\n"
     ]
    }
   ],
   "source": [
    "pip install pandas"
   ]
  },
  {
   "cell_type": "code",
   "execution_count": 2,
   "metadata": {},
   "outputs": [
    {
     "name": "stdout",
     "output_type": "stream",
     "text": [
      "Note: you may need to restart the kernel to use updated packages.\n"
     ]
    }
   ],
   "source": [
    "pip freeze > requirements.txt"
   ]
  }
 ],
 "metadata": {
  "kernelspec": {
   "display_name": "Python 3",
   "language": "python",
   "name": "python3"
  },
  "language_info": {
   "codemirror_mode": {
    "name": "ipython",
    "version": 3
   },
   "file_extension": ".py",
   "mimetype": "text/x-python",
   "name": "python",
   "nbconvert_exporter": "python",
   "pygments_lexer": "ipython3",
   "version": "3.9.8"
  }
 },
 "nbformat": 4,
 "nbformat_minor": 2
}
